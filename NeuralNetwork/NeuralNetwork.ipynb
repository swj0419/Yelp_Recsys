{
 "cells": [
  {
   "cell_type": "code",
   "execution_count": 1,
   "metadata": {},
   "outputs": [
    {
     "name": "stderr",
     "output_type": "stream",
     "text": [
      "/Library/Frameworks/Python.framework/Versions/3.6/lib/python3.6/site-packages/h5py/__init__.py:36: FutureWarning: Conversion of the second argument of issubdtype from `float` to `np.floating` is deprecated. In future, it will be treated as `np.float64 == np.dtype(float).type`.\n",
      "  from ._conv import register_converters as _register_converters\n",
      "Using TensorFlow backend.\n"
     ]
    }
   ],
   "source": [
    "import numpy as np\n",
    "import pandas as pd\n",
    "from sklearn.preprocessing import LabelEncoder, minmax_scale\n",
    "from keras import layers\n",
    "from keras.layers import Embedding, Dense, Merge, Dropout, Reshape, Flatten\n",
    "from keras.models import Sequential\n",
    "from keras.preprocessing.text import one_hot"
   ]
  },
  {
   "cell_type": "code",
   "execution_count": 2,
   "metadata": {},
   "outputs": [],
   "source": [
    "df_user = pd.read_csv('users.csv')\n",
    "df_business = pd.read_csv('business.csv')\n",
    "df_review = pd.read_csv('train_reviews.csv')\n",
    "# df_review.head()"
   ]
  },
  {
   "cell_type": "code",
   "execution_count": 3,
   "metadata": {
    "scrolled": true
   },
   "outputs": [],
   "source": [
    "df_user = df_user[['user_id', 'average_stars', 'fans', 'funny', 'name', 'review_count', 'useful']]\n",
    "df_business = df_business[['business_id', 'address', 'attributes_Alcohol', 'attributes_BikeParking', 'attributes_BusinessAcceptsCreditCards', 'attributes_Caters', 'attributes_GoodForKids', 'attributes_HasTV', 'attributes_NoiseLevel', 'attributes_OutdoorSeating', 'latitude', 'longitude', 'review_count', 'stars']]\n",
    "df_review = df_review[['user_id', 'business_id', 'stars']]"
   ]
  },
  {
   "cell_type": "code",
   "execution_count": 4,
   "metadata": {},
   "outputs": [],
   "source": [
    "le = LabelEncoder()\n",
    "df_user[['name']] = df_user[['name']].astype(str)\n",
    "df_user['name'] = le.fit_transform(df_user['name'].values)\n",
    "df_business[['address', 'attributes_Alcohol', 'attributes_BikeParking', 'attributes_BusinessAcceptsCreditCards', \\\n",
    "             'attributes_Caters', 'attributes_GoodForKids', 'attributes_HasTV', 'attributes_NoiseLevel', \\\n",
    "             'attributes_OutdoorSeating']] \\\n",
    "= df_business[['address', 'attributes_Alcohol', 'attributes_BikeParking', 'attributes_BusinessAcceptsCreditCards', \\\n",
    "             'attributes_Caters', 'attributes_GoodForKids', 'attributes_HasTV', 'attributes_NoiseLevel', \\\n",
    "             'attributes_OutdoorSeating']].astype(str)\n",
    "df_business[['address', 'attributes_Alcohol', 'attributes_BikeParking', 'attributes_BusinessAcceptsCreditCards', \\\n",
    "             'attributes_Caters', 'attributes_GoodForKids', 'attributes_HasTV', 'attributes_NoiseLevel', \\\n",
    "             'attributes_OutdoorSeating']]\\\n",
    "= df_business[['address', 'attributes_Alcohol', 'attributes_BikeParking', 'attributes_BusinessAcceptsCreditCards', \\\n",
    "             'attributes_Caters', 'attributes_GoodForKids', 'attributes_HasTV', 'attributes_NoiseLevel', \\\n",
    "             'attributes_OutdoorSeating']].apply(le.fit_transform)\n",
    "\n"
   ]
  },
  {
   "cell_type": "code",
   "execution_count": 5,
   "metadata": {},
   "outputs": [],
   "source": [
    "# df_user.set_index('user_id', inplace=True)\n",
    "# df_business.set_index('business_id', inplace=True)\n",
    "# minmax_scale(df_user.values)\n",
    "# minmax_scale(df_business.values)"
   ]
  },
  {
   "cell_type": "code",
   "execution_count": 6,
   "metadata": {},
   "outputs": [],
   "source": [
    "# df_user.reset_index(inplace=True)\n",
    "# df_business.reset_index(inplace=True)\n",
    "df_user_train = pd.merge(df_user, df_review, how='inner', on=['user_id'])[['user_id', 'average_stars', 'fans', 'funny', 'name', 'review_count', 'useful']]\n",
    "df_business_train = pd.merge(df_business, df_review.drop(columns=['user_id', 'stars']), how='inner', on=['business_id'])"
   ]
  },
  {
   "cell_type": "code",
   "execution_count": 7,
   "metadata": {},
   "outputs": [],
   "source": [
    "# df_user_train.set_index('user_id', inplace=True)\n",
    "# df_business_train.set_index('business_id', inplace=True)\n",
    "# df_user_train.head()\n",
    "# df_business_train.head()"
   ]
  },
  {
   "cell_type": "code",
   "execution_count": null,
   "metadata": {},
   "outputs": [],
   "source": []
  },
  {
   "cell_type": "code",
   "execution_count": 8,
   "metadata": {},
   "outputs": [],
   "source": [
    "# train_user = minmax_scale(df_user_train.values)\n",
    "# train_business =minmax_scale(df_business_train.values)"
   ]
  },
  {
   "cell_type": "code",
   "execution_count": 9,
   "metadata": {},
   "outputs": [],
   "source": [
    "df_user_train['user_id'] = df_user_train['user_id'].astype('category').cat.codes.values\n",
    "df_business_train['business_id'] = df_business_train['business_id'].astype('category').cat.codes.values"
   ]
  },
  {
   "cell_type": "code",
   "execution_count": 13,
   "metadata": {},
   "outputs": [],
   "source": [
    "num_user = len(df_user_train['user_id'].unique())\n",
    "num_business = len(df_business_train['business_id'].unique())"
   ]
  },
  {
   "cell_type": "code",
   "execution_count": 29,
   "metadata": {},
   "outputs": [],
   "source": [
    "def my_model():\n",
    "    k = 128\n",
    "    model1 = Sequential()\n",
    "    model1.add(Embedding(num_user + 1, k, input_length = 1))\n",
    "    model1.add(Flatten())\n",
    "    model2 = Sequential()\n",
    "    model2.add(Embedding(num_business + 1, k, input_length = 1))\n",
    "    model2.add(Flatten())\n",
    "\n",
    "    model = Sequential()\n",
    "    model.add(Merge([model1, model2], mode = 'concat'))\n",
    "    model.add(Dropout(0.2))\n",
    "    model.add(Dense(k, activation = 'relu'))\n",
    "    model.add(Dropout(0.5))\n",
    "    model.add(Dense(int(k/4), activation = 'relu'))\n",
    "    model.add(Dropout(0.5))\n",
    "    model.add(Dense(int(k/16), activation = 'relu'))\n",
    "    model.add(Dropout(0.5))\n",
    "    \n",
    "    model.add(Dense(1, activation = 'relu'))\n",
    "    return model"
   ]
  },
  {
   "cell_type": "code",
   "execution_count": 30,
   "metadata": {},
   "outputs": [
    {
     "name": "stderr",
     "output_type": "stream",
     "text": [
      "/Library/Frameworks/Python.framework/Versions/3.6/lib/python3.6/site-packages/ipykernel_launcher.py:11: UserWarning: The `Merge` layer is deprecated and will be removed after 08/2017. Use instead layers from `keras.layers.merge`, e.g. `add`, `concatenate`, etc.\n",
      "  # This is added back by InteractiveShellApp.init_path()\n"
     ]
    }
   ],
   "source": [
    "model = my_model()\n",
    "model.compile(loss = 'mse', optimizer = \"adam\")"
   ]
  },
  {
   "cell_type": "code",
   "execution_count": 16,
   "metadata": {},
   "outputs": [],
   "source": [
    "X_train = [df_user_train['user_id'], df_business_train['business_id']]\n",
    "y_train = df_review['stars'].values"
   ]
  },
  {
   "cell_type": "code",
   "execution_count": 31,
   "metadata": {},
   "outputs": [
    {
     "name": "stdout",
     "output_type": "stream",
     "text": [
      "Epoch 1/10\n",
      "150232/150232 [==============================] - 78s 521us/step - loss: 3.9454\n",
      "Epoch 2/10\n",
      "150232/150232 [==============================] - 78s 523us/step - loss: 2.2719\n",
      "Epoch 3/10\n",
      "150232/150232 [==============================] - 87s 578us/step - loss: 1.6647\n",
      "Epoch 4/10\n",
      "150232/150232 [==============================] - 91s 603us/step - loss: 1.3875\n",
      "Epoch 5/10\n",
      "150232/150232 [==============================] - 88s 587us/step - loss: 1.3004\n",
      "Epoch 6/10\n",
      "150232/150232 [==============================] - 91s 607us/step - loss: 1.2771\n",
      "Epoch 7/10\n",
      "150232/150232 [==============================] - 87s 577us/step - loss: 1.2608\n",
      "Epoch 8/10\n",
      "150232/150232 [==============================] - 89s 594us/step - loss: 1.2473\n",
      "Epoch 9/10\n",
      "150232/150232 [==============================] - 96s 641us/step - loss: 1.2354\n",
      "Epoch 10/10\n",
      "150232/150232 [==============================] - 86s 575us/step - loss: 1.2275\n"
     ]
    },
    {
     "data": {
      "text/plain": [
       "<keras.callbacks.History at 0x12507acc0>"
      ]
     },
     "execution_count": 31,
     "metadata": {},
     "output_type": "execute_result"
    }
   ],
   "source": [
    "model.fit(X_train, y_train, batch_size = 100, epochs = 10)"
   ]
  },
  {
   "cell_type": "code",
   "execution_count": null,
   "metadata": {},
   "outputs": [],
   "source": [
    "# df_user.set_index('user_id', inplace = True)\n",
    "# df_business.set_index('business_id', inplace=True)"
   ]
  },
  {
   "cell_type": "code",
   "execution_count": 18,
   "metadata": {},
   "outputs": [
    {
     "data": {
      "text/html": [
       "<div>\n",
       "<style scoped>\n",
       "    .dataframe tbody tr th:only-of-type {\n",
       "        vertical-align: middle;\n",
       "    }\n",
       "\n",
       "    .dataframe tbody tr th {\n",
       "        vertical-align: top;\n",
       "    }\n",
       "\n",
       "    .dataframe thead th {\n",
       "        text-align: right;\n",
       "    }\n",
       "</style>\n",
       "<table border=\"1\" class=\"dataframe\">\n",
       "  <thead>\n",
       "    <tr style=\"text-align: right;\">\n",
       "      <th></th>\n",
       "      <th>user_id</th>\n",
       "      <th>business_id</th>\n",
       "    </tr>\n",
       "  </thead>\n",
       "  <tbody>\n",
       "    <tr>\n",
       "      <th>0</th>\n",
       "      <td>7469</td>\n",
       "      <td>6948</td>\n",
       "    </tr>\n",
       "    <tr>\n",
       "      <th>1</th>\n",
       "      <td>3324</td>\n",
       "      <td>2632</td>\n",
       "    </tr>\n",
       "    <tr>\n",
       "      <th>2</th>\n",
       "      <td>2141</td>\n",
       "      <td>5654</td>\n",
       "    </tr>\n",
       "    <tr>\n",
       "      <th>3</th>\n",
       "      <td>9212</td>\n",
       "      <td>6396</td>\n",
       "    </tr>\n",
       "    <tr>\n",
       "      <th>4</th>\n",
       "      <td>4647</td>\n",
       "      <td>7806</td>\n",
       "    </tr>\n",
       "  </tbody>\n",
       "</table>\n",
       "</div>"
      ],
      "text/plain": [
       "   user_id  business_id\n",
       "0     7469         6948\n",
       "1     3324         2632\n",
       "2     2141         5654\n",
       "3     9212         6396\n",
       "4     4647         7806"
      ]
     },
     "execution_count": 18,
     "metadata": {},
     "output_type": "execute_result"
    }
   ],
   "source": [
    "queries = pd.read_csv('test_queries.csv')\n",
    "queries['user_id'] = queries['user_id'].astype('category').cat.codes.values\n",
    "queries['business_id'] = queries['business_id'].astype('category').cat.codes.values\n",
    "queries.head()"
   ]
  },
  {
   "cell_type": "code",
   "execution_count": 19,
   "metadata": {},
   "outputs": [
    {
     "data": {
      "text/html": [
       "<div>\n",
       "<style scoped>\n",
       "    .dataframe tbody tr th:only-of-type {\n",
       "        vertical-align: middle;\n",
       "    }\n",
       "\n",
       "    .dataframe tbody tr th {\n",
       "        vertical-align: top;\n",
       "    }\n",
       "\n",
       "    .dataframe thead th {\n",
       "        text-align: right;\n",
       "    }\n",
       "</style>\n",
       "<table border=\"1\" class=\"dataframe\">\n",
       "  <thead>\n",
       "    <tr style=\"text-align: right;\">\n",
       "      <th></th>\n",
       "      <th>business_id</th>\n",
       "      <th>address</th>\n",
       "      <th>attributes_Alcohol</th>\n",
       "      <th>attributes_BikeParking</th>\n",
       "      <th>attributes_BusinessAcceptsCreditCards</th>\n",
       "      <th>attributes_Caters</th>\n",
       "      <th>attributes_GoodForKids</th>\n",
       "      <th>attributes_HasTV</th>\n",
       "      <th>attributes_NoiseLevel</th>\n",
       "      <th>attributes_OutdoorSeating</th>\n",
       "      <th>latitude</th>\n",
       "      <th>longitude</th>\n",
       "      <th>review_count</th>\n",
       "      <th>stars</th>\n",
       "    </tr>\n",
       "  </thead>\n",
       "  <tbody>\n",
       "    <tr>\n",
       "      <th>6948</th>\n",
       "      <td>OaM2Bjeo2Ftt84ruTrzPNQ</td>\n",
       "      <td>6949</td>\n",
       "      <td>3</td>\n",
       "      <td>0</td>\n",
       "      <td>1</td>\n",
       "      <td>1</td>\n",
       "      <td>1</td>\n",
       "      <td>0</td>\n",
       "      <td>3</td>\n",
       "      <td>1</td>\n",
       "      <td>33.347893</td>\n",
       "      <td>-111.976822</td>\n",
       "      <td>116</td>\n",
       "      <td>4.5</td>\n",
       "    </tr>\n",
       "    <tr>\n",
       "      <th>2632</th>\n",
       "      <td>4aF5GfnVkJPj9IwJ2yxPtQ</td>\n",
       "      <td>8885</td>\n",
       "      <td>1</td>\n",
       "      <td>1</td>\n",
       "      <td>1</td>\n",
       "      <td>0</td>\n",
       "      <td>0</td>\n",
       "      <td>1</td>\n",
       "      <td>0</td>\n",
       "      <td>1</td>\n",
       "      <td>33.423346</td>\n",
       "      <td>-111.941376</td>\n",
       "      <td>335</td>\n",
       "      <td>3.5</td>\n",
       "    </tr>\n",
       "    <tr>\n",
       "      <th>5654</th>\n",
       "      <td>vYKZHWBuBT1PUevggLAE9w</td>\n",
       "      <td>10123</td>\n",
       "      <td>3</td>\n",
       "      <td>1</td>\n",
       "      <td>1</td>\n",
       "      <td>1</td>\n",
       "      <td>1</td>\n",
       "      <td>1</td>\n",
       "      <td>3</td>\n",
       "      <td>1</td>\n",
       "      <td>33.421881</td>\n",
       "      <td>-111.925474</td>\n",
       "      <td>111</td>\n",
       "      <td>3.5</td>\n",
       "    </tr>\n",
       "    <tr>\n",
       "      <th>6396</th>\n",
       "      <td>O0UhNI9KHdY1wOdhEtT2vg</td>\n",
       "      <td>10523</td>\n",
       "      <td>3</td>\n",
       "      <td>1</td>\n",
       "      <td>1</td>\n",
       "      <td>1</td>\n",
       "      <td>1</td>\n",
       "      <td>1</td>\n",
       "      <td>0</td>\n",
       "      <td>1</td>\n",
       "      <td>33.711445</td>\n",
       "      <td>-112.273148</td>\n",
       "      <td>102</td>\n",
       "      <td>4.0</td>\n",
       "    </tr>\n",
       "    <tr>\n",
       "      <th>7806</th>\n",
       "      <td>kosTPb88O4Q0XGbVbEOGCA</td>\n",
       "      <td>8000</td>\n",
       "      <td>2</td>\n",
       "      <td>1</td>\n",
       "      <td>1</td>\n",
       "      <td>2</td>\n",
       "      <td>2</td>\n",
       "      <td>2</td>\n",
       "      <td>2</td>\n",
       "      <td>2</td>\n",
       "      <td>36.086364</td>\n",
       "      <td>-115.035941</td>\n",
       "      <td>113</td>\n",
       "      <td>4.0</td>\n",
       "    </tr>\n",
       "  </tbody>\n",
       "</table>\n",
       "</div>"
      ],
      "text/plain": [
       "                 business_id  address  attributes_Alcohol  \\\n",
       "6948  OaM2Bjeo2Ftt84ruTrzPNQ     6949                   3   \n",
       "2632  4aF5GfnVkJPj9IwJ2yxPtQ     8885                   1   \n",
       "5654  vYKZHWBuBT1PUevggLAE9w    10123                   3   \n",
       "6396  O0UhNI9KHdY1wOdhEtT2vg    10523                   3   \n",
       "7806  kosTPb88O4Q0XGbVbEOGCA     8000                   2   \n",
       "\n",
       "      attributes_BikeParking  attributes_BusinessAcceptsCreditCards  \\\n",
       "6948                       0                                      1   \n",
       "2632                       1                                      1   \n",
       "5654                       1                                      1   \n",
       "6396                       1                                      1   \n",
       "7806                       1                                      1   \n",
       "\n",
       "      attributes_Caters  attributes_GoodForKids  attributes_HasTV  \\\n",
       "6948                  1                       1                 0   \n",
       "2632                  0                       0                 1   \n",
       "5654                  1                       1                 1   \n",
       "6396                  1                       1                 1   \n",
       "7806                  2                       2                 2   \n",
       "\n",
       "      attributes_NoiseLevel  attributes_OutdoorSeating   latitude   longitude  \\\n",
       "6948                      3                          1  33.347893 -111.976822   \n",
       "2632                      0                          1  33.423346 -111.941376   \n",
       "5654                      3                          1  33.421881 -111.925474   \n",
       "6396                      0                          1  33.711445 -112.273148   \n",
       "7806                      2                          2  36.086364 -115.035941   \n",
       "\n",
       "      review_count  stars  \n",
       "6948           116    4.5  \n",
       "2632           335    3.5  \n",
       "5654           111    3.5  \n",
       "6396           102    4.0  \n",
       "7806           113    4.0  "
      ]
     },
     "execution_count": 19,
     "metadata": {},
     "output_type": "execute_result"
    }
   ],
   "source": [
    "# df_user_test = df_user.loc[queries['user_id']]\n",
    "# df_business_test = df_business.loc[queries['business_id']]\n",
    "# df_user_test.head()\n",
    "# df_business_test.head()"
   ]
  },
  {
   "cell_type": "code",
   "execution_count": 23,
   "metadata": {},
   "outputs": [],
   "source": [
    "X_test = [queries['user_id'], queries['business_id']]"
   ]
  },
  {
   "cell_type": "code",
   "execution_count": 33,
   "metadata": {},
   "outputs": [
    {
     "data": {
      "text/plain": [
       "array([[3.],\n",
       "       [4.],\n",
       "       [4.],\n",
       "       [4.],\n",
       "       [4.],\n",
       "       [4.],\n",
       "       [4.],\n",
       "       [4.],\n",
       "       [4.],\n",
       "       [4.],\n",
       "       [4.],\n",
       "       [4.],\n",
       "       [4.],\n",
       "       [4.],\n",
       "       [4.],\n",
       "       [3.],\n",
       "       [3.],\n",
       "       [3.],\n",
       "       [3.],\n",
       "       [4.],\n",
       "       [3.],\n",
       "       [4.],\n",
       "       [3.],\n",
       "       [4.],\n",
       "       [4.],\n",
       "       [4.],\n",
       "       [4.],\n",
       "       [4.],\n",
       "       [4.],\n",
       "       [4.],\n",
       "       [4.],\n",
       "       [4.],\n",
       "       [4.],\n",
       "       [3.],\n",
       "       [5.],\n",
       "       [3.],\n",
       "       [4.],\n",
       "       [3.],\n",
       "       [4.],\n",
       "       [4.],\n",
       "       [3.],\n",
       "       [4.],\n",
       "       [3.],\n",
       "       [4.],\n",
       "       [4.],\n",
       "       [4.],\n",
       "       [4.],\n",
       "       [4.],\n",
       "       [4.],\n",
       "       [4.],\n",
       "       [4.],\n",
       "       [4.],\n",
       "       [4.],\n",
       "       [4.],\n",
       "       [4.],\n",
       "       [3.],\n",
       "       [4.],\n",
       "       [3.],\n",
       "       [4.],\n",
       "       [3.],\n",
       "       [4.],\n",
       "       [4.],\n",
       "       [3.],\n",
       "       [3.],\n",
       "       [4.],\n",
       "       [4.],\n",
       "       [4.],\n",
       "       [4.],\n",
       "       [4.],\n",
       "       [3.],\n",
       "       [3.],\n",
       "       [4.],\n",
       "       [4.],\n",
       "       [4.],\n",
       "       [4.],\n",
       "       [4.],\n",
       "       [4.],\n",
       "       [3.],\n",
       "       [4.],\n",
       "       [4.],\n",
       "       [4.],\n",
       "       [4.],\n",
       "       [3.],\n",
       "       [4.],\n",
       "       [4.],\n",
       "       [4.],\n",
       "       [4.],\n",
       "       [4.],\n",
       "       [3.],\n",
       "       [3.],\n",
       "       [4.],\n",
       "       [4.],\n",
       "       [4.],\n",
       "       [4.],\n",
       "       [4.],\n",
       "       [4.],\n",
       "       [4.],\n",
       "       [4.],\n",
       "       [3.],\n",
       "       [4.]], dtype=float32)"
      ]
     },
     "execution_count": 33,
     "metadata": {},
     "output_type": "execute_result"
    }
   ],
   "source": [
    "res = np.rint(model.predict(X_test))\n",
    "res[:100]"
   ]
  },
  {
   "cell_type": "code",
   "execution_count": null,
   "metadata": {},
   "outputs": [],
   "source": []
  }
 ],
 "metadata": {
  "kernelspec": {
   "display_name": "Python 3",
   "language": "python",
   "name": "python3"
  },
  "language_info": {
   "codemirror_mode": {
    "name": "ipython",
    "version": 3
   },
   "file_extension": ".py",
   "mimetype": "text/x-python",
   "name": "python",
   "nbconvert_exporter": "python",
   "pygments_lexer": "ipython3",
   "version": "3.6.4"
  }
 },
 "nbformat": 4,
 "nbformat_minor": 2
}
