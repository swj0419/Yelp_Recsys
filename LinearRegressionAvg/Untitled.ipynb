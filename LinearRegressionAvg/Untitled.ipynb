{
 "cells": [
  {
   "cell_type": "code",
   "execution_count": 22,
   "metadata": {},
   "outputs": [],
   "source": [
    "# pandas\n",
    "import pandas as pd\n",
    "from pandas import Series,DataFrame\n",
    "\n",
    "# numpy, matplotlib, seaborn\n",
    "import numpy as np\n",
    "import matplotlib.pyplot as plt\n",
    "import seaborn as sns\n",
    "sns.set_style('whitegrid')\n",
    "%matplotlib inline\n",
    "\n",
    "from IPython.display import display\n",
    "\n",
    "# remove warnings\n",
    "import warnings\n",
    "warnings.filterwarnings('ignore')"
   ]
  },
  {
   "cell_type": "code",
   "execution_count": 23,
   "metadata": {},
   "outputs": [
    {
     "name": "stdout",
     "output_type": "stream",
     "text": [
      "(41720, 22)\n"
     ]
    },
    {
     "data": {
      "text/html": [
       "<div>\n",
       "<style scoped>\n",
       "    .dataframe tbody tr th:only-of-type {\n",
       "        vertical-align: middle;\n",
       "    }\n",
       "\n",
       "    .dataframe tbody tr th {\n",
       "        vertical-align: top;\n",
       "    }\n",
       "\n",
       "    .dataframe thead th {\n",
       "        text-align: right;\n",
       "    }\n",
       "</style>\n",
       "<table border=\"1\" class=\"dataframe\">\n",
       "  <thead>\n",
       "    <tr style=\"text-align: right;\">\n",
       "      <th></th>\n",
       "      <th>average_stars</th>\n",
       "      <th>compliment_cool</th>\n",
       "      <th>compliment_cute</th>\n",
       "      <th>compliment_funny</th>\n",
       "      <th>compliment_hot</th>\n",
       "      <th>compliment_list</th>\n",
       "      <th>compliment_more</th>\n",
       "      <th>compliment_note</th>\n",
       "      <th>compliment_photos</th>\n",
       "      <th>compliment_plain</th>\n",
       "      <th>...</th>\n",
       "      <th>cool</th>\n",
       "      <th>elite</th>\n",
       "      <th>fans</th>\n",
       "      <th>friends</th>\n",
       "      <th>funny</th>\n",
       "      <th>name</th>\n",
       "      <th>review_count</th>\n",
       "      <th>useful</th>\n",
       "      <th>user_id</th>\n",
       "      <th>yelping_since</th>\n",
       "    </tr>\n",
       "  </thead>\n",
       "  <tbody>\n",
       "    <tr>\n",
       "      <th>0</th>\n",
       "      <td>2.83</td>\n",
       "      <td>0</td>\n",
       "      <td>0</td>\n",
       "      <td>0</td>\n",
       "      <td>0</td>\n",
       "      <td>0</td>\n",
       "      <td>0</td>\n",
       "      <td>0</td>\n",
       "      <td>0</td>\n",
       "      <td>1</td>\n",
       "      <td>...</td>\n",
       "      <td>0</td>\n",
       "      <td>None</td>\n",
       "      <td>0</td>\n",
       "      <td>None</td>\n",
       "      <td>2</td>\n",
       "      <td>James</td>\n",
       "      <td>6</td>\n",
       "      <td>7</td>\n",
       "      <td>UxfpKHGO2dfQCdS9xLLJow</td>\n",
       "      <td>2012-04-25</td>\n",
       "    </tr>\n",
       "  </tbody>\n",
       "</table>\n",
       "<p>1 rows × 22 columns</p>\n",
       "</div>"
      ],
      "text/plain": [
       "   average_stars  compliment_cool  compliment_cute  compliment_funny  \\\n",
       "0           2.83                0                0                 0   \n",
       "\n",
       "   compliment_hot  compliment_list  compliment_more  compliment_note  \\\n",
       "0               0                0                0                0   \n",
       "\n",
       "   compliment_photos  compliment_plain      ...        cool  elite  fans  \\\n",
       "0                  0                 1      ...           0   None     0   \n",
       "\n",
       "  friends  funny   name  review_count useful                 user_id  \\\n",
       "0    None      2  James             6      7  UxfpKHGO2dfQCdS9xLLJow   \n",
       "\n",
       "   yelping_since  \n",
       "0     2012-04-25  \n",
       "\n",
       "[1 rows x 22 columns]"
      ]
     },
     "metadata": {},
     "output_type": "display_data"
    },
    {
     "name": "stdout",
     "output_type": "stream",
     "text": [
      "<class 'pandas.core.frame.DataFrame'>\n",
      "RangeIndex: 41720 entries, 0 to 41719\n",
      "Data columns (total 22 columns):\n",
      "average_stars         41720 non-null float64\n",
      "compliment_cool       41720 non-null int64\n",
      "compliment_cute       41720 non-null int64\n",
      "compliment_funny      41720 non-null int64\n",
      "compliment_hot        41720 non-null int64\n",
      "compliment_list       41720 non-null int64\n",
      "compliment_more       41720 non-null int64\n",
      "compliment_note       41720 non-null int64\n",
      "compliment_photos     41720 non-null int64\n",
      "compliment_plain      41720 non-null int64\n",
      "compliment_profile    41720 non-null int64\n",
      "compliment_writer     41720 non-null int64\n",
      "cool                  41720 non-null int64\n",
      "elite                 41720 non-null object\n",
      "fans                  41720 non-null int64\n",
      "friends               41720 non-null object\n",
      "funny                 41720 non-null int64\n",
      "name                  41705 non-null object\n",
      "review_count          41720 non-null int64\n",
      "useful                41720 non-null int64\n",
      "user_id               41720 non-null object\n",
      "yelping_since         41720 non-null object\n",
      "dtypes: float64(1), int64(16), object(5)\n",
      "memory usage: 7.0+ MB\n"
     ]
    },
    {
     "data": {
      "text/plain": [
       "None"
      ]
     },
     "metadata": {},
     "output_type": "display_data"
    }
   ],
   "source": [
    "train_user_data = pd.read_csv('users.csv')\n",
    "train_busi_data = pd.read_csv('business.csv')\n",
    "train_sc_data = pd.read_csv('train_reviews.csv')\n",
    "test_data = pd.read_csv('test_queries.csv')\n",
    "#test_data = pd.read_csv('data/HTestLastNoY.csv')\n",
    "\n",
    "print(train_user_data.shape)\n",
    "display(train_user_data.head(1))\n",
    "display(train_user_data.info())\n",
    "#print(test_data.shape)\n",
    "#display(test_data.head(1))\n",
    "# display(test_data.info())"
   ]
  },
  {
   "cell_type": "code",
   "execution_count": 24,
   "metadata": {},
   "outputs": [
    {
     "name": "stdout",
     "output_type": "stream",
     "text": [
      "(50078, 2)\n"
     ]
    },
    {
     "data": {
      "text/html": [
       "<div>\n",
       "<style scoped>\n",
       "    .dataframe tbody tr th:only-of-type {\n",
       "        vertical-align: middle;\n",
       "    }\n",
       "\n",
       "    .dataframe tbody tr th {\n",
       "        vertical-align: top;\n",
       "    }\n",
       "\n",
       "    .dataframe thead th {\n",
       "        text-align: right;\n",
       "    }\n",
       "</style>\n",
       "<table border=\"1\" class=\"dataframe\">\n",
       "  <thead>\n",
       "    <tr style=\"text-align: right;\">\n",
       "      <th></th>\n",
       "      <th>user_id</th>\n",
       "      <th>business_id</th>\n",
       "    </tr>\n",
       "  </thead>\n",
       "  <tbody>\n",
       "    <tr>\n",
       "      <th>0</th>\n",
       "      <td>XEDaNNCTVAqPpvyX2zY03g</td>\n",
       "      <td>e880MGw6C6PJL-n3EJoY_g</td>\n",
       "    </tr>\n",
       "  </tbody>\n",
       "</table>\n",
       "</div>"
      ],
      "text/plain": [
       "                  user_id             business_id\n",
       "0  XEDaNNCTVAqPpvyX2zY03g  e880MGw6C6PJL-n3EJoY_g"
      ]
     },
     "metadata": {},
     "output_type": "display_data"
    },
    {
     "name": "stdout",
     "output_type": "stream",
     "text": [
      "<class 'pandas.core.frame.DataFrame'>\n",
      "RangeIndex: 50078 entries, 0 to 50077\n",
      "Data columns (total 2 columns):\n",
      "user_id        50078 non-null object\n",
      "business_id    50078 non-null object\n",
      "dtypes: object(2)\n",
      "memory usage: 782.5+ KB\n"
     ]
    },
    {
     "data": {
      "text/plain": [
       "None"
      ]
     },
     "metadata": {},
     "output_type": "display_data"
    }
   ],
   "source": [
    "print(test_data.shape)\n",
    "display(test_data.head(1))\n",
    "display(test_data.info())"
   ]
  },
  {
   "cell_type": "code",
   "execution_count": 25,
   "metadata": {},
   "outputs": [
    {
     "name": "stdout",
     "output_type": "stream",
     "text": [
      "(12058, 61)\n"
     ]
    },
    {
     "data": {
      "text/html": [
       "<div>\n",
       "<style scoped>\n",
       "    .dataframe tbody tr th:only-of-type {\n",
       "        vertical-align: middle;\n",
       "    }\n",
       "\n",
       "    .dataframe tbody tr th {\n",
       "        vertical-align: top;\n",
       "    }\n",
       "\n",
       "    .dataframe thead th {\n",
       "        text-align: right;\n",
       "    }\n",
       "</style>\n",
       "<table border=\"1\" class=\"dataframe\">\n",
       "  <thead>\n",
       "    <tr style=\"text-align: right;\">\n",
       "      <th></th>\n",
       "      <th>address</th>\n",
       "      <th>attributes</th>\n",
       "      <th>attributes_AcceptsInsurance</th>\n",
       "      <th>attributes_AgesAllowed</th>\n",
       "      <th>attributes_Alcohol</th>\n",
       "      <th>attributes_Ambience</th>\n",
       "      <th>attributes_BYOB</th>\n",
       "      <th>attributes_BYOBCorkage</th>\n",
       "      <th>attributes_BestNights</th>\n",
       "      <th>attributes_BikeParking</th>\n",
       "      <th>...</th>\n",
       "      <th>hours_Wednesday</th>\n",
       "      <th>is_open</th>\n",
       "      <th>latitude</th>\n",
       "      <th>longitude</th>\n",
       "      <th>name</th>\n",
       "      <th>neighborhood</th>\n",
       "      <th>postal_code</th>\n",
       "      <th>review_count</th>\n",
       "      <th>stars</th>\n",
       "      <th>state</th>\n",
       "    </tr>\n",
       "  </thead>\n",
       "  <tbody>\n",
       "    <tr>\n",
       "      <th>0</th>\n",
       "      <td>595 Markham Street</td>\n",
       "      <td>NaN</td>\n",
       "      <td>NaN</td>\n",
       "      <td>NaN</td>\n",
       "      <td>full_bar</td>\n",
       "      <td>{'romantic': False, 'intimate': False, 'classy...</td>\n",
       "      <td>NaN</td>\n",
       "      <td>NaN</td>\n",
       "      <td>NaN</td>\n",
       "      <td>True</td>\n",
       "      <td>...</td>\n",
       "      <td>17:0-1:0</td>\n",
       "      <td>0</td>\n",
       "      <td>43.664125</td>\n",
       "      <td>-79.411886</td>\n",
       "      <td>Southern Accent Restaurant</td>\n",
       "      <td>Palmerston</td>\n",
       "      <td>M6G 2L7</td>\n",
       "      <td>146</td>\n",
       "      <td>4.0</td>\n",
       "      <td>ON</td>\n",
       "    </tr>\n",
       "  </tbody>\n",
       "</table>\n",
       "<p>1 rows × 61 columns</p>\n",
       "</div>"
      ],
      "text/plain": [
       "              address  attributes attributes_AcceptsInsurance  \\\n",
       "0  595 Markham Street         NaN                         NaN   \n",
       "\n",
       "  attributes_AgesAllowed attributes_Alcohol  \\\n",
       "0                    NaN           full_bar   \n",
       "\n",
       "                                 attributes_Ambience attributes_BYOB  \\\n",
       "0  {'romantic': False, 'intimate': False, 'classy...             NaN   \n",
       "\n",
       "  attributes_BYOBCorkage attributes_BestNights attributes_BikeParking  ...   \\\n",
       "0                    NaN                   NaN                   True  ...    \n",
       "\n",
       "  hours_Wednesday is_open   latitude  longitude                        name  \\\n",
       "0        17:0-1:0       0  43.664125 -79.411886  Southern Accent Restaurant   \n",
       "\n",
       "  neighborhood postal_code review_count stars state  \n",
       "0   Palmerston     M6G 2L7          146   4.0    ON  \n",
       "\n",
       "[1 rows x 61 columns]"
      ]
     },
     "metadata": {},
     "output_type": "display_data"
    },
    {
     "name": "stdout",
     "output_type": "stream",
     "text": [
      "<class 'pandas.core.frame.DataFrame'>\n",
      "RangeIndex: 12058 entries, 0 to 12057\n",
      "Data columns (total 61 columns):\n",
      "address                                  11954 non-null object\n",
      "attributes                               0 non-null float64\n",
      "attributes_AcceptsInsurance              170 non-null object\n",
      "attributes_AgesAllowed                   66 non-null object\n",
      "attributes_Alcohol                       9258 non-null object\n",
      "attributes_Ambience                      9072 non-null object\n",
      "attributes_BYOB                          544 non-null object\n",
      "attributes_BYOBCorkage                   840 non-null object\n",
      "attributes_BestNights                    2025 non-null object\n",
      "attributes_BikeParking                   10596 non-null object\n",
      "attributes_BusinessAcceptsBitcoin        1812 non-null object\n",
      "attributes_BusinessAcceptsCreditCards    11476 non-null object\n",
      "attributes_BusinessParking               10775 non-null object\n",
      "attributes_ByAppointmentOnly             1338 non-null object\n",
      "attributes_Caters                        9268 non-null object\n",
      "attributes_CoatCheck                     2134 non-null object\n",
      "attributes_Corkage                       406 non-null object\n",
      "attributes_DietaryRestrictions           55 non-null object\n",
      "attributes_DogsAllowed                   2734 non-null object\n",
      "attributes_DriveThru                     874 non-null object\n",
      "attributes_GoodForDancing                2248 non-null object\n",
      "attributes_GoodForKids                   9511 non-null object\n",
      "attributes_GoodForMeal                   8908 non-null object\n",
      "attributes_HairSpecializesIn             80 non-null object\n",
      "attributes_HappyHour                     2257 non-null object\n",
      "attributes_HasTV                         9078 non-null object\n",
      "attributes_Music                         2194 non-null object\n",
      "attributes_NoiseLevel                    9041 non-null object\n",
      "attributes_Open24Hours                   203 non-null object\n",
      "attributes_OutdoorSeating                9334 non-null object\n",
      "attributes_RestaurantsAttire             8755 non-null object\n",
      "attributes_RestaurantsCounterService     249 non-null object\n",
      "attributes_RestaurantsDelivery           9026 non-null object\n",
      "attributes_RestaurantsGoodForGroups      9089 non-null object\n",
      "attributes_RestaurantsPriceRange2        10790 non-null float64\n",
      "attributes_RestaurantsReservations       8979 non-null object\n",
      "attributes_RestaurantsTableService       8725 non-null object\n",
      "attributes_RestaurantsTakeOut            9444 non-null object\n",
      "attributes_Smoking                       2033 non-null object\n",
      "attributes_WheelchairAccessible          8560 non-null object\n",
      "attributes_WiFi                          9563 non-null object\n",
      "business_id                              12058 non-null object\n",
      "categories                               12057 non-null object\n",
      "city                                     12058 non-null object\n",
      "hours                                    0 non-null float64\n",
      "hours_Friday                             11648 non-null object\n",
      "hours_Monday                             10958 non-null object\n",
      "hours_Saturday                           11528 non-null object\n",
      "hours_Sunday                             10494 non-null object\n",
      "hours_Thursday                           11629 non-null object\n",
      "hours_Tuesday                            11470 non-null object\n",
      "hours_Wednesday                          11591 non-null object\n",
      "is_open                                  12058 non-null int64\n",
      "latitude                                 12058 non-null float64\n",
      "longitude                                12058 non-null float64\n",
      "name                                     12058 non-null object\n",
      "neighborhood                             5786 non-null object\n",
      "postal_code                              12054 non-null object\n",
      "review_count                             12058 non-null int64\n",
      "stars                                    12058 non-null float64\n",
      "state                                    12058 non-null object\n",
      "dtypes: float64(6), int64(2), object(53)\n",
      "memory usage: 5.6+ MB\n"
     ]
    },
    {
     "data": {
      "text/plain": [
       "None"
      ]
     },
     "metadata": {},
     "output_type": "display_data"
    },
    {
     "data": {
      "text/plain": [
       "0        Toronto\n",
       "1        Phoenix\n",
       "2    Sun Prairie\n",
       "3      Las Vegas\n",
       "4        Phoenix\n",
       "Name: city, dtype: object"
      ]
     },
     "metadata": {},
     "output_type": "display_data"
    }
   ],
   "source": [
    "print(train_busi_data.shape)\n",
    "display(train_busi_data.head(1))\n",
    "display(train_busi_data.info())\n",
    "display(train_busi_data['city'].head())"
   ]
  },
  {
   "cell_type": "code",
   "execution_count": 26,
   "metadata": {},
   "outputs": [
    {
     "name": "stdout",
     "output_type": "stream",
     "text": [
      "(150232, 9)\n"
     ]
    },
    {
     "data": {
      "text/html": [
       "<div>\n",
       "<style scoped>\n",
       "    .dataframe tbody tr th:only-of-type {\n",
       "        vertical-align: middle;\n",
       "    }\n",
       "\n",
       "    .dataframe tbody tr th {\n",
       "        vertical-align: top;\n",
       "    }\n",
       "\n",
       "    .dataframe thead th {\n",
       "        text-align: right;\n",
       "    }\n",
       "</style>\n",
       "<table border=\"1\" class=\"dataframe\">\n",
       "  <thead>\n",
       "    <tr style=\"text-align: right;\">\n",
       "      <th></th>\n",
       "      <th>business_id</th>\n",
       "      <th>cool</th>\n",
       "      <th>date</th>\n",
       "      <th>funny</th>\n",
       "      <th>review_id</th>\n",
       "      <th>stars</th>\n",
       "      <th>text</th>\n",
       "      <th>useful</th>\n",
       "      <th>user_id</th>\n",
       "    </tr>\n",
       "  </thead>\n",
       "  <tbody>\n",
       "    <tr>\n",
       "      <th>0</th>\n",
       "      <td>WPCgtEG-bJt0cZtnM-x7yw</td>\n",
       "      <td>0</td>\n",
       "      <td>2005-03-04</td>\n",
       "      <td>0.0</td>\n",
       "      <td>6sferX8QOJq9g5PONKZH4w</td>\n",
       "      <td>4.0</td>\n",
       "      <td>There is nothing better than happy hour on the...</td>\n",
       "      <td>0.0</td>\n",
       "      <td>VDh1vjzpNUJH6HfcjH8g7Q</td>\n",
       "    </tr>\n",
       "  </tbody>\n",
       "</table>\n",
       "</div>"
      ],
      "text/plain": [
       "              business_id  cool        date  funny               review_id  \\\n",
       "0  WPCgtEG-bJt0cZtnM-x7yw     0  2005-03-04    0.0  6sferX8QOJq9g5PONKZH4w   \n",
       "\n",
       "   stars                                               text  useful  \\\n",
       "0    4.0  There is nothing better than happy hour on the...     0.0   \n",
       "\n",
       "                  user_id  \n",
       "0  VDh1vjzpNUJH6HfcjH8g7Q  "
      ]
     },
     "metadata": {},
     "output_type": "display_data"
    },
    {
     "name": "stdout",
     "output_type": "stream",
     "text": [
      "<class 'pandas.core.frame.DataFrame'>\n",
      "RangeIndex: 150232 entries, 0 to 150231\n",
      "Data columns (total 9 columns):\n",
      "business_id    150232 non-null object\n",
      "cool           150232 non-null int64\n",
      "date           150232 non-null object\n",
      "funny          150232 non-null float64\n",
      "review_id      150232 non-null object\n",
      "stars          150232 non-null float64\n",
      "text           150232 non-null object\n",
      "useful         150232 non-null float64\n",
      "user_id        150232 non-null object\n",
      "dtypes: float64(3), int64(1), object(5)\n",
      "memory usage: 10.3+ MB\n"
     ]
    },
    {
     "data": {
      "text/plain": [
       "None"
      ]
     },
     "metadata": {},
     "output_type": "display_data"
    }
   ],
   "source": [
    "print(train_sc_data.shape)\n",
    "display(train_sc_data.head(1))\n",
    "display(train_sc_data.info())"
   ]
  },
  {
   "cell_type": "code",
   "execution_count": 62,
   "metadata": {},
   "outputs": [
    {
     "data": {
      "text/plain": [
       "[<matplotlib.lines.Line2D at 0x1a18bb1978>]"
      ]
     },
     "execution_count": 62,
     "metadata": {},
     "output_type": "execute_result"
    },
    {
     "data": {
      "image/png": "[encoded data removed]",
      "text/plain": [
       "<Figure size 432x288 with 1 Axes>"
      ]
     },
     "metadata": {
      "needs_background": "light"
     },
     "output_type": "display_data"
    }
   ],
   "source": [
    "import matplotlib.pyplot as plt\n",
    "import matplotlib.pylab as pl\n",
    "\n",
    "new_sc_data = train_sc_data\n",
    "train_sc_group = train_sc_data.groupby(['date'])\n",
    "t = dict(list(train_sc_group))\n",
    "#print(t.keys())\n",
    "#print(t['2015-10-31'].keys())\n",
    "t_stars = {}\n",
    "ts = []\n",
    "for key,item in t.items():\n",
    "    t_stars[key] = np.mean(item['stars'])\n",
    "    ts.append(np.mean(item['stars']))\n",
    "   \n",
    "\n",
    "plt.plot(ts)\n",
    "\n"
   ]
  },
  {
   "cell_type": "code",
   "execution_count": 29,
   "metadata": {},
   "outputs": [
    {
     "data": {
      "text/plain": [
       "Text(0.5,0.98,'Average Rating for Each City')"
      ]
     },
     "execution_count": 29,
     "metadata": {},
     "output_type": "execute_result"
    },
    {
     "data": {
      "image/png": "[encoded data removed]",
      "text/plain": [
       "<Figure size 432x288 with 1 Axes>"
      ]
     },
     "metadata": {
      "needs_background": "light"
     },
     "output_type": "display_data"
    }
   ],
   "source": [
    "train_busi_group = train_busi_data.groupby(['city'])\n",
    "t = dict(list(train_busi_group))\n",
    "#print(t.keys())\n",
    "#print(t['2015-10-31'].keys())\n",
    "names = list(t.keys())\n",
    "values = []\n",
    "for key,value in t.items():\n",
    "    values.append(np.mean(value['stars']))\n",
    "    \n",
    "#print(values[0:50])\n",
    "fig, ax = plt.subplots()\n",
    "ax.scatter(names, values)\n",
    "#axs[2].plot(names, values)\n",
    "ax.set_xticklabels([])\n",
    "fig.suptitle('Average Rating for Each City')\n",
    "#fig.axes.get_xaxis().set_visible(False)\n",
    "   "
   ]
  },
  {
   "cell_type": "code",
   "execution_count": 21,
   "metadata": {},
   "outputs": [
    {
     "data": {
      "text/plain": [
       "Text(0.5,1,'Carnegie')"
      ]
     },
     "execution_count": 21,
     "metadata": {},
     "output_type": "execute_result"
    },
    {
     "data": {
      "image/png": "[encoded data removed]",
      "text/plain": [
       "<Figure size 648x216 with 3 Axes>"
      ]
     },
     "metadata": {
      "needs_background": "light"
     },
     "output_type": "display_data"
    }
   ],
   "source": [
    "a = t['Toronto']\n",
    "b = t['Montréal']\n",
    "c = t['Carnegie']\n",
    "fig, axs = plt.subplots(1, 3, figsize=(9, 3), sharey=True)\n",
    "axs[0].plot(a['stars'])\n",
    "axs[0].set_title('Toronto')\n",
    "axs[1].plot(b['stars'])\n",
    "axs[1].set_title('Montréal')\n",
    "axs[2].plot(c['stars'])\n",
    "axs[2].set_title('Carnegie')\n",
    "#print(t.keys())"
   ]
  },
  {
   "cell_type": "code",
   "execution_count": 91,
   "metadata": {},
   "outputs": [
    {
     "data": {
      "text/plain": [
       "0         There is nothing better than happy hour on the...\n",
       "1         You know you're in for a fun experience as soo...\n",
       "2         Vegas has become a massive theme park, where e...\n",
       "3         Having stayed at most of the theme park-like V...\n",
       "4         Andre's Monte Carlo, voted the #1 restaurant i...\n",
       "5         With the Willow Stream Spa and Fitness Center,...\n",
       "6         Speechless. Unlike other Vegas hotels who tend...\n",
       "7         This tiny, unpretentious Cuban restaurant is h...\n",
       "8         The decor is an odd mix of Arizona ranch and C...\n",
       "9         DAMN expensive but damn good to match.  If you...\n",
       "10        Just about as good as a steak house can get, t...\n",
       "11        Retro is the word.  Looks like it got a great ...\n",
       "12        Good bar food.  We ordered lots.  Sliders were...\n",
       "13        Combining a visit here with a drive through Va...\n",
       "14        My first trip to Vegas was so long ago that Mc...\n",
       "15        One of the most surrealistic experiences I've ...\n",
       "16        That there's a two-and-a-half-acre cactus gard...\n",
       "17        Another Madison favorite and one of the best b...\n",
       "18        I'm going to concur with Miriam on this one. T...\n",
       "19        You really need to be a sushi aficionado to ap...\n",
       "20        The person who recommended this place either h...\n",
       "21        The owners of one of Munich's most famous inst...\n",
       "22        Every Sunday, from 9:30am until 2:30pm, Bally'...\n",
       "23        It's odd that a California-based chain would b...\n",
       "24        It's nice to travel with a high roller . . . w...\n",
       "25        Bawdy. Bizarre. Erotic. Exotic. One of Cirque ...\n",
       "26        The prices are low enough to lure diners downt...\n",
       "27        There are numerous dining spots in town fashio...\n",
       "28        For the money, this is one of the best values ...\n",
       "29        If you're looking for a cheap, filling lunch, ...\n",
       "                                ...                        \n",
       "150202    I went to JJ's last Thursday with my work team...\n",
       "150203    The setting, decor, and ambience of this resta...\n",
       "150204    this my spot for after work if n Friday or Sat...\n",
       "150205    I have been here many times since they have op...\n",
       "150206    Tear Falls on Dry Face\\n\\n\\nHow do I begin? \\n...\n",
       "150207    Great prices on gas, in fact some of the best ...\n",
       "150208    Great food at a good price and great staff. Wo...\n",
       "150209    I'd love to be able to comment however we were...\n",
       "150210    This is one of our favorite go-to spots.  They...\n",
       "150211    First time here.  Great service, cool atmosphe...\n",
       "150212    My friends and I came here for lunch buffet on...\n",
       "150213    Even though it was close to closing, employees...\n",
       "150214    I really wish I could give it 4 stars, but I c...\n",
       "150215    This place has been around forever!  Food is o...\n",
       "150216    Delish!  Do I need to say more?  For a nice me...\n",
       "150217    I was introduced to Panera when I first moved ...\n",
       "150218    Excellent dinner location with surprising food...\n",
       "150219    Amazing good food! Nothing that hasn't been sa...\n",
       "150220    We came back to Fuddruckers after a long time,...\n",
       "150221    This is a wonderful Italian restaurant. The fo...\n",
       "150222    Pretty good, but not amazing. I love to try ne...\n",
       "150223    This is the 2nd time I have had my little guy ...\n",
       "150224    Everything we had here was delicious!! As thei...\n",
       "150225    Their lunch buffet special is stupendous: they...\n",
       "150226    This is a very popular place.  I have been her...\n",
       "150227    If you are of the belief that 2 hours or more ...\n",
       "150228    This review is simply for the pool bar/lounge ...\n",
       "150229    I have been wanting to try this place for so l...\n",
       "150230    We love love love this restaurant. It is one o...\n",
       "150231    I heard from several friends that Bigham has t...\n",
       "Name: text, Length: 150232, dtype: object"
      ]
     },
     "metadata": {},
     "output_type": "display_data"
    }
   ],
   "source": [
    "display(train_sc_data['text'])"
   ]
  },
  {
   "cell_type": "code",
   "execution_count": null,
   "metadata": {},
   "outputs": [],
   "source": []
  }
 ],
 "metadata": {
  "kernelspec": {
   "display_name": "Python 3",
   "language": "python",
   "name": "python3"
  },
  "language_info": {
   "codemirror_mode": {
    "name": "ipython",
    "version": 3
   },
   "file_extension": ".py",
   "mimetype": "text/x-python",
   "name": "python",
   "nbconvert_exporter": "python",
   "pygments_lexer": "ipython3",
   "version": "3.7.0"
  }
 },
 "nbformat": 4,
 "nbformat_minor": 2
}
