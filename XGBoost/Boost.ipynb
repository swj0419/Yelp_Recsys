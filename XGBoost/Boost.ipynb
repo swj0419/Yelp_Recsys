{
 "cells": [
  {
   "cell_type": "code",
   "execution_count": 1,
   "metadata": {},
   "outputs": [
    {
     "name": "stderr",
     "output_type": "stream",
     "text": [
      "/anaconda3/lib/python3.7/site-packages/sklearn/cross_validation.py:41: DeprecationWarning: This module was deprecated in version 0.18 in favor of the model_selection module into which all the refactored classes and functions are moved. Also note that the interface of the new CV iterators are different from that of this module. This module will be removed in 0.20.\n",
      "  \"This module will be removed in 0.20.\", DeprecationWarning)\n",
      "/anaconda3/lib/python3.7/site-packages/sklearn/grid_search.py:42: DeprecationWarning: This module was deprecated in version 0.18 in favor of the model_selection module into which all the refactored classes and functions are moved. This module will be removed in 0.20.\n",
      "  DeprecationWarning)\n"
     ]
    }
   ],
   "source": [
    "import pandas as pd\n",
    "from pandas import Series,DataFrame\n",
    "import numpy as np\n",
    "import matplotlib.pyplot as plt\n",
    "import seaborn as sns\n",
    "sns.set_style('whitegrid')\n",
    "%matplotlib inline\n",
    "import xgboost as xgb  \n",
    "from xgboost import XGBRegressor\n",
    "from sklearn import cross_validation, metrics  \n",
    "from sklearn.grid_search import GridSearchCV \n",
    "\n",
    "from IPython.display import display\n",
    "import warnings\n",
    "warnings.filterwarnings('ignore')"
   ]
  },
  {
   "cell_type": "code",
   "execution_count": 5,
   "metadata": {},
   "outputs": [
    {
     "name": "stdout",
     "output_type": "stream",
     "text": [
      "(150232, 7)\n"
     ]
    },
    {
     "data": {
      "text/html": [
       "<div>\n",
       "<style scoped>\n",
       "    .dataframe tbody tr th:only-of-type {\n",
       "        vertical-align: middle;\n",
       "    }\n",
       "\n",
       "    .dataframe tbody tr th {\n",
       "        vertical-align: top;\n",
       "    }\n",
       "\n",
       "    .dataframe thead th {\n",
       "        text-align: right;\n",
       "    }\n",
       "</style>\n",
       "<table border=\"1\" class=\"dataframe\">\n",
       "  <thead>\n",
       "    <tr style=\"text-align: right;\">\n",
       "      <th></th>\n",
       "      <th>userId</th>\n",
       "      <th>businessId</th>\n",
       "      <th>stars</th>\n",
       "      <th>userAverageStars</th>\n",
       "      <th>businessAverageStars</th>\n",
       "      <th>userReviewCounts</th>\n",
       "      <th>businessReviewCounts</th>\n",
       "    </tr>\n",
       "  </thead>\n",
       "  <tbody>\n",
       "    <tr>\n",
       "      <th>0</th>\n",
       "      <td>VDh1vjzpNUJH6HfcjH8g7Q</td>\n",
       "      <td>WPCgtEG-bJt0cZtnM-x7yw</td>\n",
       "      <td>4.0</td>\n",
       "      <td>4.5</td>\n",
       "      <td>4.0</td>\n",
       "      <td>4</td>\n",
       "      <td>128</td>\n",
       "    </tr>\n",
       "  </tbody>\n",
       "</table>\n",
       "</div>"
      ],
      "text/plain": [
       "                   userId              businessId  stars  userAverageStars  \\\n",
       "0  VDh1vjzpNUJH6HfcjH8g7Q  WPCgtEG-bJt0cZtnM-x7yw    4.0               4.5   \n",
       "\n",
       "   businessAverageStars  userReviewCounts  businessReviewCounts  \n",
       "0                   4.0                 4                   128  "
      ]
     },
     "metadata": {},
     "output_type": "display_data"
    },
    {
     "name": "stdout",
     "output_type": "stream",
     "text": [
      "(50078, 7)\n"
     ]
    },
    {
     "data": {
      "text/html": [
       "<div>\n",
       "<style scoped>\n",
       "    .dataframe tbody tr th:only-of-type {\n",
       "        vertical-align: middle;\n",
       "    }\n",
       "\n",
       "    .dataframe tbody tr th {\n",
       "        vertical-align: top;\n",
       "    }\n",
       "\n",
       "    .dataframe thead th {\n",
       "        text-align: right;\n",
       "    }\n",
       "</style>\n",
       "<table border=\"1\" class=\"dataframe\">\n",
       "  <thead>\n",
       "    <tr style=\"text-align: right;\">\n",
       "      <th></th>\n",
       "      <th>userId</th>\n",
       "      <th>businessId</th>\n",
       "      <th>stars</th>\n",
       "      <th>userAverageStars</th>\n",
       "      <th>businessAverageStars</th>\n",
       "      <th>userReviewCounts</th>\n",
       "      <th>businessReviewCounts</th>\n",
       "    </tr>\n",
       "  </thead>\n",
       "  <tbody>\n",
       "    <tr>\n",
       "      <th>0</th>\n",
       "      <td>XEDaNNCTVAqPpvyX2zY03g</td>\n",
       "      <td>e880MGw6C6PJL-n3EJoY_g</td>\n",
       "      <td>NaN</td>\n",
       "      <td>3.81</td>\n",
       "      <td>4.0</td>\n",
       "      <td>36</td>\n",
       "      <td>149</td>\n",
       "    </tr>\n",
       "  </tbody>\n",
       "</table>\n",
       "</div>"
      ],
      "text/plain": [
       "                   userId              businessId  stars  userAverageStars  \\\n",
       "0  XEDaNNCTVAqPpvyX2zY03g  e880MGw6C6PJL-n3EJoY_g    NaN              3.81   \n",
       "\n",
       "   businessAverageStars  userReviewCounts  businessReviewCounts  \n",
       "0                   4.0                36                   149  "
      ]
     },
     "metadata": {},
     "output_type": "display_data"
    }
   ],
   "source": [
    "train_data = pd.read_csv('data/train_reviews_avgstars.csv')\n",
    "test_data = pd.read_csv('data/test_reviews_avgstars.csv')\n",
    "#train_data = pd.read_csv('data/TrainNum.csv') \n",
    "#test_data = pd.read_csv('data/TestNum.csv')\n",
    "\n",
    "print(train_data.shape)\n",
    "display(train_data.head(1))\n",
    "# display(train_data.info())\n",
    "\n",
    "print(test_data.shape)\n",
    "display(test_data.head(1))\n",
    "# display(test_data.info())\n",
    "train_length = train_data.shape[0]"
   ]
  },
  {
   "cell_type": "code",
   "execution_count": 6,
   "metadata": {},
   "outputs": [],
   "source": [
    "train_uid = train_data['userId']\n",
    "train_bid = train_data['businessId']\n",
    "train_Y = train_data['stars']\n",
    "train_data.drop(['userId', 'businessId','stars'], axis=1, inplace=True)\n",
    "train_X = train_data\n",
    "\n",
    "test_uid = test_data['userId']\n",
    "test_bid = test_data['businessId']\n",
    "test_data.drop(['userId', 'businessId','stars'], axis=1, inplace=True)\n",
    "test_X = test_data\n",
    "dtrain = xgb.DMatrix(train_X, label=train_Y)\n",
    "dtest = xgb.DMatrix(test_X)"
   ]
  },
  {
   "cell_type": "code",
   "execution_count": 7,
   "metadata": {},
   "outputs": [],
   "source": [
    "from sklearn.metrics import mean_squared_error\n",
    "def rmse(y, y_pred):\n",
    "    return np.sqrt(mean_squared_error(y, y_pred))\n",
    "\n",
    "def fit_print_importance(xgb_regressor, trainX, trainY):\n",
    "    xgbParam = xgb_regressor.get_xgb_params()\n",
    "    cvresult = xgb.cv(xgbParam, dtrain, num_boost_round=xgbParam['n_estimators'], \n",
    "                              nfold=5, metrics='rmse', early_stopping_rounds=50)\n",
    "    xgb_regressor.fit(trainX, trainY)\n",
    "    predictions = xgb_regressor.predict(trainX)\n",
    "    rmseScore = rmse(trainY, predictions)\n",
    "    print(\"RMSE: \", rmseScore)\n",
    "    \n",
    "    feature = pd.Series(xgb_regressor.feature_importances_, trainX.columns.values)\n",
    "    feature = feature.sort_values(ascending=False).head(40)\n",
    "    feature.plot(kind='bar', title='Feature Importance')\n",
    "    plt.ylabel('Feature Importance Score')\n",
    "    \n",
    "    return xgb_regressor, feature"
   ]
  },
  {
   "cell_type": "code",
   "execution_count": 8,
   "metadata": {},
   "outputs": [
    {
     "name": "stdout",
     "output_type": "stream",
     "text": [
      "RMSE:  0.9998645626211524\n"
     ]
    },
    {
     "data": {
      "image/png": "[encoded data removed]",
      "text/plain": [
       "<Figure size 432x288 with 1 Axes>"
      ]
     },
     "metadata": {
      "needs_background": "light"
     },
     "output_type": "display_data"
    }
   ],
   "source": [
    "xgb_regressor = XGBRegressor(learning_rate =0.05, n_estimators = 300, max_depth=3, min_child_weight=1.1,\n",
    "                             gamma=0.01, subsample=0.72, colsample_bytree=0.89, reg_lambda = 0.61, reg_alpha = 0.53,\n",
    "                             scale_pos_weight=1, objective= 'reg:linear', seed=10)\n",
    "xgb_regressor, feature = fit_print_importance(xgb_regressor,train_X, train_Y)   "
   ]
  },
  {
   "cell_type": "code",
   "execution_count": 9,
   "metadata": {},
   "outputs": [],
   "source": [
    "predictions = xgb_regressor.predict(test_X)\n",
    "aff = []\n",
    "for i in predictions:\n",
    "    if i < 1:\n",
    "        i = 1\n",
    "    if i > 5:\n",
    "        i = 5\n",
    "    aff.append(i) \n",
    "submission = pd.DataFrame({'stars': aff})\n",
    "submission.index.name = \"index\"\n",
    "\n",
    "submission.to_csv(\"results/boost.csv\")"
   ]
  },
  {
   "cell_type": "code",
   "execution_count": null,
   "metadata": {},
   "outputs": [],
   "source": []
  }
 ],
 "metadata": {
  "kernelspec": {
   "display_name": "Python 3",
   "language": "python",
   "name": "python3"
  },
  "language_info": {
   "codemirror_mode": {
    "name": "ipython",
    "version": 3
   },
   "file_extension": ".py",
   "mimetype": "text/x-python",
   "name": "python",
   "nbconvert_exporter": "python",
   "pygments_lexer": "ipython3",
   "version": "3.7.0"
  }
 },
 "nbformat": 4,
 "nbformat_minor": 2
}
